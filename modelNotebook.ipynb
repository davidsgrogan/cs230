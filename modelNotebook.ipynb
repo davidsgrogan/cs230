{
 "cells": [
  {
   "cell_type": "code",
   "execution_count": 74,
   "metadata": {},
   "outputs": [],
   "source": [
    "#!/usr/bin/env python3\n",
    "import scipy.io.wavfile\n",
    "from python_speech_features import mfcc, delta\n",
    "import numpy as np\n",
    "import math\n",
    "\n",
    "import tensorflow as tf\n",
    "from tensorflow.keras import layers\n",
    "from keras.utils import to_categorical\n",
    "from keras.utils import plot_model\n",
    "import IPython.display\n",
    "import matplotlib.pyplot as plt"
   ]
  },
  {
   "cell_type": "code",
   "execution_count": 75,
   "metadata": {
    "scrolled": true
   },
   "outputs": [
    {
     "name": "stdout",
     "output_type": "stream",
     "text": [
      "just read file number 1 which contains 7305509 audio samples and is named cousinhenry_01_trollope_8khz.wav Now analying it:\n",
      "\t analyzing training sample number 500\n",
      "just read file number 2 which contains 12400013 audio samples and is named siegeofcorinth_2_byron_8khz.wav Now analying it:\n",
      "\t analyzing training sample number 500\n",
      "just read file number 3 which contains 36554719 audio samples and is named upperroom_16_ryle_8khz.wav Now analying it:\n",
      "\t analyzing training sample number 500\n",
      "just read file number 4 which contains 3008270 audio samples and is named vorst_14_machiavelli_8khz.wav Now analying it:\n",
      "\t analyzing training sample number 500\n"
     ]
    }
   ],
   "source": [
    "np.random.seed(1234)\n",
    "\n",
    "# Audio pre-processing cell\n",
    "\n",
    "\n",
    "files = [ 'cousinhenry_01_trollope_8khz.wav',\n",
    "'siegeofcorinth_2_byron_8khz.wav',\n",
    "'upperroom_16_ryle_8khz.wav',\n",
    "'vorst_14_machiavelli_8khz.wav',\n",
    "]\n",
    "\n",
    "# This constant is the number of entries of the all_examples list below that\n",
    "# correspond to one training example.\n",
    "# * The 13 is magic -- it's the default number of mfcc... frequencies(?) calculated\n",
    "#   by many places on the web and in the python library we used.\n",
    "# * The 49 comes from a combination of our sample size and mfcc window. Our sample\n",
    "#   size is half second and we calculate mfccs in a 25ms window with a 10ms stride.\n",
    "#   (0.5 - 0.01) / 0.01 = 49\n",
    "# * Multiply that * 2 because we are also calculating the first derivative of the\n",
    "#   mfcc... cepstrum(?), which seems to be common (further adding 2nd derivative\n",
    "#   is also common).\n",
    "# * The + 1 is because the label for each sample comes right after the above.\n",
    "height_of_one_training_example = 49 * 13 * 2 + 1\n",
    "\n",
    "label = 0\n",
    "all_examples = []\n",
    "for one_file in files:\n",
    "  label += 1\n",
    "  rate, data = scipy.io.wavfile.read(one_file)\n",
    "  total_length_of_wave = data.shape[0]\n",
    "  print (\"just read file number %d which contains %d audio samples and is named %s Now analying it:\" %\n",
    "         (label, total_length_of_wave, one_file))\n",
    "  assert rate == 8000, \"rate was %d\" % rate\n",
    "\n",
    "  half_second_length = 4000\n",
    "  start_index_of_half_second = 0\n",
    "  num_training_example_in_this_file = 0\n",
    "  while total_length_of_wave - start_index_of_half_second >= half_second_length:\n",
    "    num_training_example_in_this_file += 1\n",
    "    \n",
    "    # The class with the least data has 752, so let's do 750 samples each for class balance.\n",
    "    if num_training_example_in_this_file == 751:\n",
    "      break;\n",
    "    \n",
    "    if num_training_example_in_this_file % 500 == 0:\n",
    "      print (\"\\t analyzing training sample number %d\" % num_training_example_in_this_file)\n",
    "\n",
    "    this_training_example_raw = data[start_index_of_half_second:start_index_of_half_second + half_second_length]\n",
    "    start_index_of_half_second += half_second_length\n",
    "    assert len(this_training_example_raw) == 4000, len(this_training_example_raw)\n",
    "    mfccs = mfcc(this_training_example_raw, 8000)\n",
    "    assert mfccs.shape == (49, 13), mfccs.shape\n",
    "\n",
    "    # Alfredo used 2 here, and changing it doesn't change the output size, so *shrug*.\n",
    "    first_derivative = delta(mfccs, 2)\n",
    "    assert first_derivative.shape == (49, 13), first_derivative.shape\n",
    "    all_examples.extend(mfccs.flatten().tolist())\n",
    "    all_examples.extend(first_derivative.flatten().tolist())\n",
    "    all_examples.append(label)\n",
    "    assert len(all_examples) % height_of_one_training_example == 0, (\n",
    "        \"num_training_example_in_this_file = %d\" % num_training_example_in_this_file)"
   ]
  },
  {
   "cell_type": "code",
   "execution_count": 76,
   "metadata": {},
   "outputs": [
    {
     "name": "stdout",
     "output_type": "stream",
     "text": [
      "(2700, 1274) (2700, 1) (300, 1274) (300, 1)\n",
      "[[3.]\n",
      " [3.]\n",
      " [4.]\n",
      " [2.]\n",
      " [2.]]\n",
      "[[3.]\n",
      " [4.]\n",
      " [2.]\n",
      " [4.]\n",
      " [4.]]\n",
      "[[0. 0. 1. 0.]\n",
      " [0. 0. 1. 0.]\n",
      " [0. 0. 0. 1.]\n",
      " [0. 1. 0. 0.]\n",
      " [0. 1. 0. 0.]]\n",
      "[[0. 0. 1. 0.]\n",
      " [0. 0. 0. 1.]\n",
      " [0. 1. 0. 0.]\n",
      " [0. 0. 0. 1.]\n",
      " [0. 0. 0. 1.]]\n"
     ]
    }
   ],
   "source": [
    "np.random.seed(123456)\n",
    "\n",
    "# This cell massages the audio features into a format Keras likes and splits into test/dev sets.\n",
    "\n",
    "# TODO(dgrogan): Parts of the first half and last half of this cell are inverses and can be combined.\n",
    "all_examples_np = np.array(all_examples)\n",
    "all_examples_np = all_examples_np.reshape((height_of_one_training_example, -1), order='F')\n",
    "\n",
    "#print (\"all_examples_np.shape = %s, so we have %d training samples\" % (\n",
    "#       all_examples_np.shape, all_examples_np.shape[1]))\n",
    "assert all_examples_np[-1, 0] == 1, (\n",
    "    \"make sure the last row labels the first column as belonging to file number 1 %s\" % all_examples_np[-1, 0])\n",
    "\n",
    "shuffled_examples = all_examples_np.T\n",
    "np.random.shuffle(shuffled_examples)\n",
    "shuffled_examples = shuffled_examples.T\n",
    "\n",
    "# I changed to 0.9 when I thought we might not have enough data. We can change it back to whatever.\n",
    "training_pct = 0.9\n",
    "\n",
    "number_of_training_examples = int(math.ceil(all_examples_np.shape[1] * training_pct))\n",
    "\n",
    "# The labels are the last entry in each of the columns, hence the -1 below.\n",
    "X_train = shuffled_examples[0:-1, 0:number_of_training_examples]\n",
    "Y_train = shuffled_examples[-1:, 0:number_of_training_examples]\n",
    "X_dev   = shuffled_examples[0:-1, number_of_training_examples:]\n",
    "Y_dev   = shuffled_examples[-1:, number_of_training_examples:]\n",
    "\n",
    "# The labels in Y are an integer corresponding to the speaker number.\n",
    "# In Keras, you want (number of data, attributes). So we reshape.\n",
    "# Want: (see coursera M4 - Keras Tutorial)\n",
    "# if training_pct = 0.8, (11853, 1274) (11853, 1) (2963, 1274) (2963, 1)\n",
    "X_train = X_train.T\n",
    "Y_train = Y_train.T\n",
    "X_dev = X_dev.T\n",
    "Y_dev = Y_dev.T\n",
    "\n",
    "# Sanity check the train/dev shapes.\n",
    "print(X_train.shape, Y_train.shape, X_dev.shape, Y_dev.shape)\n",
    "\n",
    "# Sanity check the one-hot encoding.\n",
    "print(Y_train[0:5])\n",
    "print(Y_dev[0:5])\n",
    "Y_train = to_categorical(Y_train - 1) # -1 because to_categorical seems to expect labels to start at 0\n",
    "Y_dev = to_categorical(Y_dev - 1)\n",
    "print(Y_train[0:5])\n",
    "print(Y_dev[0:5])"
   ]
  },
  {
   "cell_type": "code",
   "execution_count": 77,
   "metadata": {},
   "outputs": [
    {
     "data": {
      "image/png": "[encoded data removed]",
      "text/plain": [
       "<IPython.core.display.Image object>"
      ]
     },
     "metadata": {},
     "output_type": "display_data"
    },
    {
     "name": "stdout",
     "output_type": "stream",
     "text": [
      "_________________________________________________________________\n",
      "Layer (type)                 Output Shape              Param #   \n",
      "=================================================================\n",
      "dense_24 (Dense)             (None, 5)                 6375      \n",
      "_________________________________________________________________\n",
      "dense_25 (Dense)             (None, 4)                 24        \n",
      "=================================================================\n",
      "Total params: 6,399\n",
      "Trainable params: 6,399\n",
      "Non-trainable params: 0\n",
      "_________________________________________________________________\n",
      "None\n"
     ]
    }
   ],
   "source": [
    "#Keras\n",
    "model = tf.keras.Sequential()\n",
    "\n",
    "#hidden layers\n",
    "model.add(layers.Dense(5, activation='relu', input_dim=X_train.shape[1]))\n",
    "model.add(layers.Dense(4, activation='softmax'))\n",
    "\n",
    "model.compile(optimizer=tf.train.AdamOptimizer(0.001),\n",
    "              loss='categorical_crossentropy',\n",
    "              metrics=['accuracy'])\n",
    "\n",
    "keras.utils.plot_model(model, to_file='test_keras_plot_model.png', show_shapes=True)\n",
    "display(IPython.display.Image('test_keras_plot_model.png'))\n",
    "print(model.summary())\n",
    "# I don't know where 140240419526080 in the picture came from"
   ]
  },
  {
   "cell_type": "code",
   "execution_count": 78,
   "metadata": {},
   "outputs": [
    {
     "name": "stdout",
     "output_type": "stream",
     "text": [
      "Train on 2700 samples, validate on 300 samples\n",
      "Epoch 1/30\n",
      " - 1s - loss: 2.5111 - acc: 0.4389 - val_loss: 1.0546 - val_acc: 0.5467\n",
      "Epoch 2/30\n",
      " - 0s - loss: 0.9688 - acc: 0.6007 - val_loss: 0.8933 - val_acc: 0.6867\n",
      "Epoch 3/30\n",
      " - 0s - loss: 0.8344 - acc: 0.6774 - val_loss: 0.8103 - val_acc: 0.6867\n",
      "Epoch 4/30\n",
      " - 0s - loss: 0.7470 - acc: 0.7000 - val_loss: 0.7668 - val_acc: 0.7133\n",
      "Epoch 5/30\n",
      " - 0s - loss: 0.6878 - acc: 0.7344 - val_loss: 0.7254 - val_acc: 0.7533\n",
      "Epoch 6/30\n",
      " - 0s - loss: 0.6404 - acc: 0.7759 - val_loss: 0.5987 - val_acc: 0.8133\n",
      "Epoch 7/30\n",
      " - 0s - loss: 0.5762 - acc: 0.8122 - val_loss: 0.6358 - val_acc: 0.8167\n",
      "Epoch 8/30\n",
      " - 0s - loss: 0.5258 - acc: 0.8400 - val_loss: 0.5887 - val_acc: 0.8400\n",
      "Epoch 9/30\n",
      " - 0s - loss: 0.4873 - acc: 0.8596 - val_loss: 0.6414 - val_acc: 0.8400\n",
      "Epoch 10/30\n",
      " - 0s - loss: 0.4495 - acc: 0.8737 - val_loss: 0.6300 - val_acc: 0.8567\n",
      "Epoch 11/30\n",
      " - 0s - loss: 0.4238 - acc: 0.8893 - val_loss: 0.6425 - val_acc: 0.8633\n",
      "Epoch 12/30\n",
      " - 0s - loss: 0.4073 - acc: 0.9000 - val_loss: 0.6198 - val_acc: 0.8667\n",
      "Epoch 13/30\n",
      " - 0s - loss: 0.3838 - acc: 0.9093 - val_loss: 0.6009 - val_acc: 0.8733\n",
      "Epoch 14/30\n",
      " - 0s - loss: 0.3631 - acc: 0.9170 - val_loss: 0.5837 - val_acc: 0.8767\n",
      "Epoch 15/30\n",
      " - 0s - loss: 0.3531 - acc: 0.9259 - val_loss: 0.6393 - val_acc: 0.8767\n",
      "Epoch 16/30\n",
      " - 0s - loss: 0.3371 - acc: 0.9300 - val_loss: 0.5929 - val_acc: 0.8833\n",
      "Epoch 17/30\n",
      " - 0s - loss: 0.3226 - acc: 0.9315 - val_loss: 0.5897 - val_acc: 0.8933\n",
      "Epoch 18/30\n",
      " - 0s - loss: 0.3033 - acc: 0.9400 - val_loss: 0.5675 - val_acc: 0.8867\n",
      "Epoch 19/30\n",
      " - 0s - loss: 0.2811 - acc: 0.9456 - val_loss: 0.6041 - val_acc: 0.8833\n",
      "Epoch 20/30\n",
      " - 0s - loss: 0.2687 - acc: 0.9474 - val_loss: 0.5846 - val_acc: 0.8900\n",
      "Epoch 21/30\n",
      " - 0s - loss: 0.2571 - acc: 0.9522 - val_loss: 0.5383 - val_acc: 0.8767\n",
      "Epoch 22/30\n",
      " - 0s - loss: 0.2354 - acc: 0.9548 - val_loss: 0.5320 - val_acc: 0.8867\n",
      "Epoch 23/30\n",
      " - 0s - loss: 0.2225 - acc: 0.9585 - val_loss: 0.5644 - val_acc: 0.8900\n",
      "Epoch 24/30\n",
      " - 0s - loss: 0.2059 - acc: 0.9589 - val_loss: 0.5460 - val_acc: 0.8900\n",
      "Epoch 25/30\n",
      " - 0s - loss: 0.1907 - acc: 0.9600 - val_loss: 0.5855 - val_acc: 0.8800\n",
      "Epoch 26/30\n",
      " - 0s - loss: 0.1798 - acc: 0.9600 - val_loss: 0.6136 - val_acc: 0.8800\n",
      "Epoch 27/30\n",
      " - 0s - loss: 0.1745 - acc: 0.9600 - val_loss: 0.5624 - val_acc: 0.8867\n",
      "Epoch 28/30\n",
      " - 0s - loss: 0.1692 - acc: 0.9615 - val_loss: 0.6035 - val_acc: 0.8933\n",
      "Epoch 29/30\n",
      " - 0s - loss: 0.1741 - acc: 0.9622 - val_loss: 0.6336 - val_acc: 0.8800\n",
      "Epoch 30/30\n",
      " - 0s - loss: 0.1542 - acc: 0.9630 - val_loss: 0.6929 - val_acc: 0.8767\n",
      "CPU times: user 6.98 s, sys: 1.31 s, total: 8.29 s\n",
      "Wall time: 4.73 s\n"
     ]
    }
   ],
   "source": [
    "%%time\n",
    "history_object = model.fit(X_train, Y_train, epochs=30, batch_size=128, verbose=2, shuffle=True,\n",
    "         validation_data=(X_dev, Y_dev))\n"
   ]
  },
  {
   "cell_type": "code",
   "execution_count": 79,
   "metadata": {},
   "outputs": [
    {
     "data": {
      "image/png": "[encoded data removed]",
      "text/plain": [
       "<Figure size 432x288 with 1 Axes>"
      ]
     },
     "metadata": {
      "needs_background": "light"
     },
     "output_type": "display_data"
    },
    {
     "data": {
      "image/png": "[encoded data removed]",
      "text/plain": [
       "<Figure size 432x288 with 1 Axes>"
      ]
     },
     "metadata": {
      "needs_background": "light"
     },
     "output_type": "display_data"
    }
   ],
   "source": [
    "# Plot training & validation accuracy values\n",
    "plt.plot(history_object.history['acc'])\n",
    "plt.plot(history_object.history['val_acc'])\n",
    "plt.title('Model accuracy')\n",
    "plt.ylabel('Accuracy')\n",
    "plt.xlabel('Epoch')\n",
    "plt.legend(['Train', 'Test'], loc='upper left')\n",
    "plt.show()\n",
    "\n",
    "# Plot training & validation loss values\n",
    "plt.plot(history_object.history['loss'])\n",
    "plt.plot(history_object.history['val_loss'])\n",
    "plt.title('Model loss')\n",
    "plt.ylabel('Loss')\n",
    "plt.xlabel('Epoch')\n",
    "plt.legend(['Train', 'Test'], loc='upper left')\n",
    "plt.show()"
   ]
  }
 ],
 "metadata": {
  "kernelspec": {
   "display_name": "cs230 venv",
   "language": "python",
   "name": "venv"
  },
  "language_info": {
   "codemirror_mode": {
    "name": "ipython",
    "version": 3
   },
   "file_extension": ".py",
   "mimetype": "text/x-python",
   "name": "python",
   "nbconvert_exporter": "python",
   "pygments_lexer": "ipython3",
   "version": "3.6.5"
  }
 },
 "nbformat": 4,
 "nbformat_minor": 2
}
