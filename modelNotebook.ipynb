{
 "cells": [
  {
   "cell_type": "code",
   "execution_count": 2,
   "metadata": {},
   "outputs": [
    {
     "name": "stderr",
     "output_type": "stream",
     "text": [
      "/anaconda3/lib/python3.6/site-packages/h5py/__init__.py:34: FutureWarning: Conversion of the second argument of issubdtype from `float` to `np.floating` is deprecated. In future, it will be treated as `np.float64 == np.dtype(float).type`.\n",
      "  from ._conv import register_converters as _register_converters\n",
      "Using TensorFlow backend.\n"
     ]
    }
   ],
   "source": [
    "#!/usr/bin/env python3\n",
    "import scipy.io.wavfile\n",
    "from python_speech_features import mfcc, delta\n",
    "import numpy as np\n",
    "import math\n",
    "\n",
    "import tensorflow as tf\n",
    "from tensorflow.keras import layers\n",
    "from keras.utils import to_categorical\n",
    "from keras.utils import plot_model\n",
    "import IPython.display\n",
    "import matplotlib.pyplot as plt"
   ]
  },
  {
   "cell_type": "code",
   "execution_count": 3,
   "metadata": {
    "scrolled": true
   },
   "outputs": [
    {
     "name": "stdout",
     "output_type": "stream",
     "text": [
      "just read file number 1 which contains 7305509 audio samples and is named cousinhenry_01_trollope_8khz.wav Now analying it:\n",
      "\t analyzing training sample number 500\n",
      "\t analyzing training sample number 1000\n",
      "\t analyzing training sample number 1500\n",
      "just read file number 2 which contains 12400013 audio samples and is named siegeofcorinth_2_byron_8khz.wav Now analying it:\n",
      "\t analyzing training sample number 500\n",
      "\t analyzing training sample number 1000\n",
      "\t analyzing training sample number 1500\n",
      "\t analyzing training sample number 2000\n",
      "\t analyzing training sample number 2500\n",
      "\t analyzing training sample number 3000\n",
      "just read file number 3 which contains 36554719 audio samples and is named upperroom_16_ryle_8khz.wav Now analying it:\n",
      "\t analyzing training sample number 500\n",
      "\t analyzing training sample number 1000\n",
      "\t analyzing training sample number 1500\n",
      "\t analyzing training sample number 2000\n",
      "\t analyzing training sample number 2500\n",
      "\t analyzing training sample number 3000\n",
      "\t analyzing training sample number 3500\n",
      "\t analyzing training sample number 4000\n",
      "\t analyzing training sample number 4500\n",
      "\t analyzing training sample number 5000\n",
      "\t analyzing training sample number 5500\n",
      "\t analyzing training sample number 6000\n",
      "\t analyzing training sample number 6500\n",
      "\t analyzing training sample number 7000\n",
      "\t analyzing training sample number 7500\n",
      "\t analyzing training sample number 8000\n",
      "\t analyzing training sample number 8500\n",
      "\t analyzing training sample number 9000\n",
      "just read file number 4 which contains 3008270 audio samples and is named vorst_14_machiavelli_8khz.wav Now analying it:\n",
      "\t analyzing training sample number 500\n"
     ]
    }
   ],
   "source": [
    "np.random.seed(1234)\n",
    "\n",
    "#files = [ 'vorst_14_machiavelli_8khz.wav'\n",
    "# ]\n",
    "files = [ 'cousinhenry_01_trollope_8khz.wav',\n",
    "'siegeofcorinth_2_byron_8khz.wav',\n",
    "'upperroom_16_ryle_8khz.wav',\n",
    "'vorst_14_machiavelli_8khz.wav',\n",
    "]\n",
    "\n",
    "# This constant is the number of entries of the all_examples list below that\n",
    "# correspond to one training example.\n",
    "# * The 13 is magic -- it's the default number of mfcc... frequencies(?) calculated\n",
    "#   by many places on the web and in the python library we used.\n",
    "# * The 49 comes from a combination of our sample size and mfcc window. Our sample\n",
    "#   size is half second and we calculate mfccs in a 25ms window with a 10ms stride.\n",
    "#   (0.5 - 0.01) / 0.01 = 49\n",
    "# * Multiply that * 2 because we are also calculating the first derivative of the\n",
    "#   mfcc... cepstrum(?), which seems to be common (further adding 2nd derivative\n",
    "#   is also common).\n",
    "# * The + 1 is because the label for each sample comes right after the above.\n",
    "height_of_one_training_example = 49 * 13 * 2 + 1\n",
    "\n",
    "label = 0\n",
    "all_examples = []\n",
    "for one_file in files:\n",
    "  label += 1\n",
    "  rate, data = scipy.io.wavfile.read(one_file)\n",
    "  total_length_of_wave = data.shape[0]\n",
    "  print (\"just read file number %d which contains %d audio samples and is named %s Now analying it:\" % (label, total_length_of_wave, one_file))\n",
    "  assert rate == 8000, \"rate was %d\" % rate\n",
    "\n",
    "  half_second_length = 4000\n",
    "  start_index_of_half_second = 0\n",
    "  num_training_example_in_this_file = 0\n",
    "  while total_length_of_wave - start_index_of_half_second >= half_second_length:\n",
    "    num_training_example_in_this_file += 1\n",
    "    if num_training_example_in_this_file % 500 == 0:\n",
    "      print (\"\\t analyzing training sample number %d\" % num_training_example_in_this_file)\n",
    "\n",
    "    this_training_example_raw = data[start_index_of_half_second:start_index_of_half_second + half_second_length]\n",
    "    start_index_of_half_second += half_second_length\n",
    "    assert len(this_training_example_raw) == 4000, len(this_training_example_raw)\n",
    "    mfccs = mfcc(this_training_example_raw, 8000)\n",
    "    assert mfccs.shape == (49, 13), mfccs.shape\n",
    "\n",
    "    #Alfredo used 2 here, and changing it doesn't change the output size.\n",
    "    first_derivative = delta(mfccs, 2)\n",
    "    assert first_derivative.shape == (49, 13), first_derivative.shape\n",
    "    all_examples.extend(mfccs.flatten().tolist())\n",
    "    all_examples.extend(first_derivative.flatten().tolist())\n",
    "    all_examples.append(label)\n",
    "    assert len(all_examples) % height_of_one_training_example == 0, \"num_training_example_in_this_file = %d\" % num_training_example_in_this_file"
   ]
  },
  {
   "cell_type": "code",
   "execution_count": 4,
   "metadata": {},
   "outputs": [
    {
     "name": "stdout",
     "output_type": "stream",
     "text": [
      "(13335, 1274) (13335, 1) (1481, 1274) (1481, 1)\n",
      "[[3.]\n",
      " [2.]\n",
      " [2.]\n",
      " [4.]\n",
      " [3.]\n",
      " [3.]\n",
      " [1.]\n",
      " [3.]\n",
      " [3.]\n",
      " [3.]]\n",
      "[[0. 0. 1. 0.]\n",
      " [0. 1. 0. 0.]\n",
      " [0. 1. 0. 0.]\n",
      " [0. 0. 0. 1.]\n",
      " [0. 0. 1. 0.]\n",
      " [0. 0. 1. 0.]\n",
      " [1. 0. 0. 0.]\n",
      " [0. 0. 1. 0.]\n",
      " [0. 0. 1. 0.]\n",
      " [0. 0. 1. 0.]]\n"
     ]
    }
   ],
   "source": [
    "np.random.seed(123456)\n",
    "\n",
    "# Make a dataset out of the single python list constructed above.\n",
    "# TODO(dgrogan): Parts of the first half and last half of this cell are inverses and can be combined.\n",
    "all_examples_np = np.array(all_examples)\n",
    "all_examples_np = all_examples_np.reshape((height_of_one_training_example, -1), order='F')\n",
    "\n",
    "#print (\"all_examples_np.shape = %s, so we have %d training samples\" % (all_examples_np.shape, all_examples_np.shape[1]))\n",
    "assert all_examples_np[-1, 0] == 1, \"make sure the last row labels the first column as belonging to file number 1 %s\" % all_examples_np[-1, 0]\n",
    "\n",
    "shuffled_examples = all_examples_np.T\n",
    "np.random.shuffle(shuffled_examples)\n",
    "shuffled_examples = shuffled_examples.T\n",
    "\n",
    "# I changed to 0.9 when I thought we might not have enough data. We can change it back to whatever.\n",
    "training_pct = 0.9\n",
    "\n",
    "number_of_training_examples = int(math.ceil(all_examples_np.shape[1] * training_pct))\n",
    "\n",
    "X_train = shuffled_examples[0:-1, 0:number_of_training_examples]\n",
    "Y_train = shuffled_examples[-1:, 0:number_of_training_examples]\n",
    "X_dev   = shuffled_examples[0:-1, number_of_training_examples:]\n",
    "Y_dev   = shuffled_examples[-1:, number_of_training_examples:]\n",
    "\n",
    "# The labels in Y are an integer corresponding to the speaker number.\n",
    "# In Keras, you want (number of data, attributes). So we reshape.\n",
    "# Want: (see coursera M4 - Keras Tutorial)\n",
    "# if training_pct = 0.8, (11853, 1274) (11853, 1) (2963, 1274) (2963, 1)\n",
    "X_train = X_train.T\n",
    "Y_train = Y_train.T\n",
    "X_dev = X_dev.T\n",
    "Y_dev = Y_dev.T\n",
    "\n",
    "#check\n",
    "print(X_train.shape, Y_train.shape, X_dev.shape, Y_dev.shape)\n",
    "\n",
    "#debugging - to be deleted\n",
    "print(Y_train[110:120])\n",
    "Y_train = to_categorical(Y_train - 1) # -1 because to_categorical seems to expect labels to start at 0\n",
    "Y_dev = to_categorical(Y_dev - 1)\n",
    "print(Y_train[110:120])"
   ]
  },
  {
   "cell_type": "code",
   "execution_count": 5,
   "metadata": {},
   "outputs": [
    {
     "name": "stdout",
     "output_type": "stream",
     "text": [
      "WARNING:tensorflow:From /anaconda3/lib/python3.6/site-packages/tensorflow/python/ops/resource_variable_ops.py:435: colocate_with (from tensorflow.python.framework.ops) is deprecated and will be removed in a future version.\n",
      "Instructions for updating:\n",
      "Colocations handled automatically by placer.\n"
     ]
    },
    {
     "ename": "NameError",
     "evalue": "name 'keras' is not defined",
     "output_type": "error",
     "traceback": [
      "\u001b[0;31m---------------------------------------------------------------------------\u001b[0m",
      "\u001b[0;31mNameError\u001b[0m                                 Traceback (most recent call last)",
      "\u001b[0;32m<timed exec>\u001b[0m in \u001b[0;36m<module>\u001b[0;34m\u001b[0m\n",
      "\u001b[0;31mNameError\u001b[0m: name 'keras' is not defined"
     ]
    }
   ],
   "source": [
    "%%time\n",
    "\n",
    "#Keras\n",
    "model = tf.keras.Sequential()\n",
    "\n",
    "#hidden layers\n",
    "model.add(layers.Dense(5, activation='relu', input_dim=X_train.shape[1]))\n",
    "model.add(layers.Dense(4, activation='softmax'))\n",
    "\n",
    "model.compile(optimizer=tf.train.AdamOptimizer(0.001),\n",
    "              loss='categorical_crossentropy',\n",
    "              metrics=['accuracy'])\n",
    "\n",
    "keras.utils.plot_model(model, to_file='test_keras_plot_model.png', show_shapes=True)\n",
    "display(IPython.display.Image('test_keras_plot_model.png'))\n",
    "print(model.summary())\n",
    "# I don't know where 140240419526080 in the picture came from"
   ]
  },
  {
   "cell_type": "code",
   "execution_count": 6,
   "metadata": {},
   "outputs": [
    {
     "name": "stdout",
     "output_type": "stream",
     "text": [
      "Train on 13335 samples, validate on 1481 samples\n",
      "WARNING:tensorflow:From /anaconda3/lib/python3.6/site-packages/tensorflow/python/ops/math_ops.py:3066: to_int32 (from tensorflow.python.ops.math_ops) is deprecated and will be removed in a future version.\n",
      "Instructions for updating:\n",
      "Use tf.cast instead.\n",
      "Epoch 1/50\n",
      " - 0s - loss: 1.3819 - acc: 0.6443 - val_loss: 0.8228 - val_acc: 0.7461\n",
      "Epoch 2/50\n",
      " - 0s - loss: 0.6459 - acc: 0.7733 - val_loss: 0.6279 - val_acc: 0.8062\n",
      "Epoch 3/50\n",
      " - 0s - loss: 0.4999 - acc: 0.8354 - val_loss: 0.5607 - val_acc: 0.8650\n",
      "Epoch 4/50\n",
      " - 0s - loss: 0.4186 - acc: 0.8646 - val_loss: 0.4659 - val_acc: 0.8731\n",
      "Epoch 5/50\n",
      " - 0s - loss: 0.3607 - acc: 0.8774 - val_loss: 0.4366 - val_acc: 0.8798\n",
      "Epoch 6/50\n",
      " - 0s - loss: 0.3344 - acc: 0.8847 - val_loss: 0.3462 - val_acc: 0.8866\n",
      "Epoch 7/50\n",
      " - 0s - loss: 0.2764 - acc: 0.8946 - val_loss: 0.3129 - val_acc: 0.8859\n",
      "Epoch 8/50\n",
      " - 0s - loss: 0.2535 - acc: 0.9119 - val_loss: 0.3024 - val_acc: 0.9169\n",
      "Epoch 9/50\n",
      " - 0s - loss: 0.2412 - acc: 0.9286 - val_loss: 0.2952 - val_acc: 0.9183\n",
      "Epoch 10/50\n",
      " - 0s - loss: 0.2279 - acc: 0.9327 - val_loss: 0.2787 - val_acc: 0.9244\n",
      "Epoch 11/50\n",
      " - 0s - loss: 0.2274 - acc: 0.9316 - val_loss: 0.2815 - val_acc: 0.9257\n",
      "Epoch 12/50\n",
      " - 0s - loss: 0.2182 - acc: 0.9351 - val_loss: 0.2667 - val_acc: 0.9325\n",
      "Epoch 13/50\n",
      " - 0s - loss: 0.2107 - acc: 0.9366 - val_loss: 0.2827 - val_acc: 0.9251\n",
      "Epoch 14/50\n",
      " - 0s - loss: 0.2080 - acc: 0.9398 - val_loss: 0.2630 - val_acc: 0.9325\n",
      "Epoch 15/50\n",
      " - 0s - loss: 0.2001 - acc: 0.9400 - val_loss: 0.2531 - val_acc: 0.9338\n",
      "Epoch 16/50\n",
      " - 0s - loss: 0.1815 - acc: 0.9438 - val_loss: 0.2416 - val_acc: 0.9345\n",
      "Epoch 17/50\n",
      " - 0s - loss: 0.1705 - acc: 0.9433 - val_loss: 0.2511 - val_acc: 0.9345\n",
      "Epoch 18/50\n",
      " - 0s - loss: 0.1617 - acc: 0.9480 - val_loss: 0.2363 - val_acc: 0.9372\n",
      "Epoch 19/50\n",
      " - 0s - loss: 0.1518 - acc: 0.9500 - val_loss: 0.2327 - val_acc: 0.9392\n",
      "Epoch 20/50\n",
      " - 0s - loss: 0.1452 - acc: 0.9522 - val_loss: 0.2274 - val_acc: 0.9446\n",
      "Epoch 21/50\n",
      " - 0s - loss: 0.1382 - acc: 0.9554 - val_loss: 0.2273 - val_acc: 0.9413\n",
      "Epoch 22/50\n",
      " - 0s - loss: 0.1382 - acc: 0.9534 - val_loss: 0.2265 - val_acc: 0.9386\n",
      "Epoch 23/50\n",
      " - 0s - loss: 0.1342 - acc: 0.9564 - val_loss: 0.2225 - val_acc: 0.9467\n",
      "Epoch 24/50\n",
      " - 0s - loss: 0.1353 - acc: 0.9564 - val_loss: 0.2233 - val_acc: 0.9446\n",
      "Epoch 25/50\n",
      " - 0s - loss: 0.1290 - acc: 0.9588 - val_loss: 0.2317 - val_acc: 0.9419\n",
      "Epoch 26/50\n",
      " - 0s - loss: 0.1226 - acc: 0.9601 - val_loss: 0.2300 - val_acc: 0.9460\n",
      "Epoch 27/50\n",
      " - 0s - loss: 0.1235 - acc: 0.9595 - val_loss: 0.2307 - val_acc: 0.9386\n",
      "Epoch 28/50\n",
      " - 0s - loss: 0.1214 - acc: 0.9613 - val_loss: 0.2366 - val_acc: 0.9440\n",
      "Epoch 29/50\n",
      " - 0s - loss: 0.1232 - acc: 0.9600 - val_loss: 0.2245 - val_acc: 0.9480\n",
      "Epoch 30/50\n",
      " - 0s - loss: 0.1180 - acc: 0.9624 - val_loss: 0.2391 - val_acc: 0.9419\n",
      "Epoch 31/50\n",
      " - 0s - loss: 0.1151 - acc: 0.9626 - val_loss: 0.2307 - val_acc: 0.9406\n",
      "Epoch 32/50\n",
      " - 0s - loss: 0.1125 - acc: 0.9630 - val_loss: 0.2285 - val_acc: 0.9379\n",
      "Epoch 33/50\n",
      " - 0s - loss: 0.1126 - acc: 0.9630 - val_loss: 0.2274 - val_acc: 0.9433\n",
      "Epoch 34/50\n",
      " - 0s - loss: 0.1136 - acc: 0.9633 - val_loss: 0.2254 - val_acc: 0.9419\n",
      "Epoch 35/50\n",
      " - 0s - loss: 0.1111 - acc: 0.9641 - val_loss: 0.2176 - val_acc: 0.9460\n",
      "Epoch 36/50\n",
      " - 0s - loss: 0.1110 - acc: 0.9642 - val_loss: 0.2185 - val_acc: 0.9487\n",
      "Epoch 37/50\n",
      " - 0s - loss: 0.1077 - acc: 0.9646 - val_loss: 0.2293 - val_acc: 0.9446\n",
      "Epoch 38/50\n",
      " - 0s - loss: 0.1104 - acc: 0.9642 - val_loss: 0.2142 - val_acc: 0.9446\n",
      "Epoch 39/50\n",
      " - 0s - loss: 0.1052 - acc: 0.9670 - val_loss: 0.2300 - val_acc: 0.9433\n",
      "Epoch 40/50\n",
      " - 0s - loss: 0.1080 - acc: 0.9657 - val_loss: 0.2236 - val_acc: 0.9467\n",
      "Epoch 41/50\n",
      " - 0s - loss: 0.1066 - acc: 0.9655 - val_loss: 0.2153 - val_acc: 0.9460\n",
      "Epoch 42/50\n",
      " - 0s - loss: 0.1084 - acc: 0.9660 - val_loss: 0.2252 - val_acc: 0.9460\n",
      "Epoch 43/50\n",
      " - 0s - loss: 0.1048 - acc: 0.9672 - val_loss: 0.2359 - val_acc: 0.9467\n",
      "Epoch 44/50\n",
      " - 0s - loss: 0.1143 - acc: 0.9628 - val_loss: 0.2307 - val_acc: 0.9413\n",
      "Epoch 45/50\n",
      " - 0s - loss: 0.1071 - acc: 0.9649 - val_loss: 0.2237 - val_acc: 0.9440\n",
      "Epoch 46/50\n",
      " - 0s - loss: 0.1056 - acc: 0.9657 - val_loss: 0.2461 - val_acc: 0.9399\n",
      "Epoch 47/50\n",
      " - 0s - loss: 0.1032 - acc: 0.9668 - val_loss: 0.2339 - val_acc: 0.9413\n",
      "Epoch 48/50\n",
      " - 0s - loss: 0.1006 - acc: 0.9675 - val_loss: 0.2393 - val_acc: 0.9399\n",
      "Epoch 49/50\n",
      " - 0s - loss: 0.0980 - acc: 0.9685 - val_loss: 0.2307 - val_acc: 0.9453\n",
      "Epoch 50/50\n",
      " - 0s - loss: 0.0983 - acc: 0.9678 - val_loss: 0.2337 - val_acc: 0.9426\n",
      "CPU times: user 15.3 s, sys: 2.51 s, total: 17.8 s\n",
      "Wall time: 10 s\n"
     ]
    }
   ],
   "source": [
    "%%time\n",
    "history_object = model.fit(X_train, Y_train, epochs=50, batch_size=128, verbose=2, shuffle=True,\n",
    "         validation_data=(X_dev, Y_dev))\n"
   ]
  },
  {
   "cell_type": "code",
   "execution_count": 7,
   "metadata": {},
   "outputs": [
    {
     "name": "stdout",
     "output_type": "stream",
     "text": [
      "{'loss': [1.3818656481023044, 0.6459458146999961, 0.4999295770049229, 0.41859384711578984, 0.36072539962272226, 0.33437699256181985, 0.27640501144542917, 0.25352328678709674, 0.24123126239444953, 0.22788466684461578, 0.22741651540621416, 0.21818378716316122, 0.2106971391520341, 0.2079598592723471, 0.20014726678206315, 0.18149694590632012, 0.1704754461466227, 0.16171373942839684, 0.1517695564873039, 0.14521027737694162, 0.13821457538154516, 0.1382411961586546, 0.13419643254998834, 0.13530131864386258, 0.12896746788851365, 0.12255333083809919, 0.1235109945339436, 0.12136777814381303, 0.12320030020737764, 0.11796832509847993, 0.115060069016696, 0.1124685177173749, 0.11256190169844281, 0.11355852714226762, 0.11112388562387324, 0.1110068024299902, 0.10772316381237482, 0.11035986498674294, 0.10519266590716288, 0.10796250635328523, 0.10663929555046903, 0.10838723293249644, 0.1048129479168594, 0.11430924448726282, 0.10714885296225324, 0.1055703745919542, 0.10315739617930578, 0.10060953793186103, 0.09802106636983873, 0.09826031071072801], 'acc': [0.6443195, 0.77330333, 0.8353956, 0.8645669, 0.8773903, 0.8847394, 0.8945632, 0.91188604, 0.9286089, 0.93265843, 0.93160856, 0.9350581, 0.93655795, 0.9397825, 0.9400075, 0.94375706, 0.9433071, 0.9479565, 0.9499813, 0.952156, 0.95538056, 0.95343083, 0.95635545, 0.95643044, 0.95875514, 0.960105, 0.9595051, 0.96130484, 0.959955, 0.9623547, 0.96257967, 0.9630296, 0.9630296, 0.9632546, 0.9640795, 0.9641545, 0.96460444, 0.9641545, 0.9670041, 0.9656543, 0.9655043, 0.9660292, 0.9671541, 0.9628047, 0.96490437, 0.9657293, 0.9667792, 0.9674541, 0.96850395, 0.967754], 'val_loss': [0.822769954549067, 0.6279228629492812, 0.5606710659057043, 0.4659127200841099, 0.4366009263956893, 0.3462137874520203, 0.3128916762874869, 0.30238522698877635, 0.29517778950434614, 0.2786867872313178, 0.28145801099388285, 0.26673251280786214, 0.2827067741624895, 0.26301996525600907, 0.2530954838463135, 0.2415602179917027, 0.25108247705603837, 0.23632421875265625, 0.23271587172084204, 0.2273897471901213, 0.22727483818854616, 0.22646224443410234, 0.22252133796538637, 0.22333294690500474, 0.23170444799950604, 0.22997492661474525, 0.23070043677578578, 0.2365904621865442, 0.22447703954820936, 0.2390543486241309, 0.23070055793701677, 0.22845321698497872, 0.22741337452564264, 0.22542930629348368, 0.21759552635871263, 0.21848816120246228, 0.22928408039060902, 0.21420185500347155, 0.23004743774785616, 0.2235611794085055, 0.2152685572535987, 0.22521671417353525, 0.23590590505484066, 0.2307060449651413, 0.2236722989874382, 0.24608391476071903, 0.2339403801959242, 0.23930102657177094, 0.23068250087891617, 0.2336601366733555], 'val_acc': [0.7461175, 0.806212, 0.86495614, 0.87305874, 0.8798109, 0.8865631, 0.8858879, 0.916948, 0.9182984, 0.9243754, 0.9257259, 0.9324781, 0.9250506, 0.9324781, 0.9338285, 0.93450373, 0.93450373, 0.9372046, 0.93923026, 0.944632, 0.9412559, 0.938555, 0.94665766, 0.944632, 0.9419311, 0.94598246, 0.938555, 0.9439568, 0.9480081, 0.9419311, 0.94058067, 0.9378798, 0.9432816, 0.9419311, 0.94598246, 0.9486833, 0.944632, 0.944632, 0.9432816, 0.94665766, 0.94598246, 0.94598246, 0.94665766, 0.9412559, 0.9439568, 0.93990546, 0.9412559, 0.93990546, 0.9453072, 0.94260633]}\n"
     ]
    }
   ],
   "source": [
    "print(history_object.history)"
   ]
  },
  {
   "cell_type": "code",
   "execution_count": 8,
   "metadata": {},
   "outputs": [
    {
     "data": {
      "image/png": "[encoded data removed]",
      "text/plain": [
       "<matplotlib.figure.Figure at 0x1a2c790cf8>"
      ]
     },
     "metadata": {
      "needs_background": "light"
     },
     "output_type": "display_data"
    },
    {
     "data": {
      "image/png": "[encoded data removed]",
      "text/plain": [
       "<matplotlib.figure.Figure at 0x1a295119b0>"
      ]
     },
     "metadata": {
      "needs_background": "light"
     },
     "output_type": "display_data"
    }
   ],
   "source": [
    "# Plot training & validation accuracy values\n",
    "plt.plot(history_object.history['acc'])\n",
    "plt.plot(history_object.history['val_acc'])\n",
    "plt.title('Model accuracy')\n",
    "plt.ylabel('Accuracy')\n",
    "plt.xlabel('Epoch')\n",
    "plt.legend(['Train', 'Test'], loc='upper left')\n",
    "plt.show()\n",
    "\n",
    "# Plot training & validation loss values\n",
    "plt.plot(history_object.history['loss'])\n",
    "plt.plot(history_object.history['val_loss'])\n",
    "plt.title('Model loss')\n",
    "plt.ylabel('Loss')\n",
    "plt.xlabel('Epoch')\n",
    "plt.legend(['Train', 'Test'], loc='upper left')\n",
    "plt.show()"
   ]
  },
  {
   "cell_type": "code",
   "execution_count": null,
   "metadata": {
    "collapsed": true
   },
   "outputs": [],
   "source": []
  }
 ],
 "metadata": {
  "kernelspec": {
   "display_name": "Python 3",
   "language": "python",
   "name": "python3"
  },
  "language_info": {
   "codemirror_mode": {
    "name": "ipython",
    "version": 3
   },
   "file_extension": ".py",
   "mimetype": "text/x-python",
   "name": "python",
   "nbconvert_exporter": "python",
   "pygments_lexer": "ipython3",
   "version": "3.6.8"
  }
 },
 "nbformat": 4,
 "nbformat_minor": 2
}
