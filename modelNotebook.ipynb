{
 "cells": [
  {
   "cell_type": "code",
   "execution_count": 10,
   "metadata": {},
   "outputs": [],
   "source": [
    "#!/usr/bin/env python3\n",
    "import scipy.io.wavfile\n",
    "from python_speech_features import mfcc, delta\n",
    "import numpy as np\n",
    "import math\n",
    "\n",
    "import tensorflow as tf\n",
    "from tensorflow.keras import layers\n",
    "from keras.utils import to_categorical\n",
    "from keras.utils import plot_model\n",
    "import IPython.display\n",
    "import matplotlib.pyplot as plt"
   ]
  },
  {
   "cell_type": "code",
   "execution_count": 11,
   "metadata": {
    "scrolled": true
   },
   "outputs": [
    {
     "name": "stdout",
     "output_type": "stream",
     "text": [
      "just read file number 1 which contains 7305509 audio samples and is named cousinhenry_01_trollope_8khz.wav Now analying it:\n",
      "\t analyzing training sample number 500\n",
      "\t analyzing training sample number 1000\n",
      "\t analyzing training sample number 1500\n",
      "just read file number 2 which contains 12400013 audio samples and is named siegeofcorinth_2_byron_8khz.wav Now analying it:\n",
      "\t analyzing training sample number 500\n",
      "\t analyzing training sample number 1000\n",
      "\t analyzing training sample number 1500\n",
      "\t analyzing training sample number 2000\n",
      "\t analyzing training sample number 2500\n",
      "\t analyzing training sample number 3000\n",
      "just read file number 3 which contains 36554719 audio samples and is named upperroom_16_ryle_8khz.wav Now analying it:\n",
      "\t analyzing training sample number 500\n",
      "\t analyzing training sample number 1000\n",
      "\t analyzing training sample number 1500\n",
      "\t analyzing training sample number 2000\n",
      "\t analyzing training sample number 2500\n",
      "\t analyzing training sample number 3000\n",
      "\t analyzing training sample number 3500\n",
      "\t analyzing training sample number 4000\n",
      "\t analyzing training sample number 4500\n",
      "\t analyzing training sample number 5000\n",
      "\t analyzing training sample number 5500\n",
      "\t analyzing training sample number 6000\n",
      "\t analyzing training sample number 6500\n",
      "\t analyzing training sample number 7000\n",
      "\t analyzing training sample number 7500\n",
      "\t analyzing training sample number 8000\n",
      "\t analyzing training sample number 8500\n",
      "\t analyzing training sample number 9000\n",
      "just read file number 4 which contains 3008270 audio samples and is named vorst_14_machiavelli_8khz.wav Now analying it:\n",
      "\t analyzing training sample number 500\n"
     ]
    }
   ],
   "source": [
    "np.random.seed(1234)\n",
    "\n",
    "# Audio analysis cell\n",
    "\n",
    "\n",
    "files = [ 'cousinhenry_01_trollope_8khz.wav',\n",
    "'siegeofcorinth_2_byron_8khz.wav',\n",
    "'upperroom_16_ryle_8khz.wav',\n",
    "'vorst_14_machiavelli_8khz.wav',\n",
    "]\n",
    "\n",
    "# This constant is the number of entries of the all_examples list below that\n",
    "# correspond to one training example.\n",
    "# * The 13 is magic -- it's the default number of mfcc... frequencies(?) calculated\n",
    "#   by many places on the web and in the python library we used.\n",
    "# * The 49 comes from a combination of our sample size and mfcc window. Our sample\n",
    "#   size is half second and we calculate mfccs in a 25ms window with a 10ms stride.\n",
    "#   (0.5 - 0.01) / 0.01 = 49\n",
    "# * Multiply that * 2 because we are also calculating the first derivative of the\n",
    "#   mfcc... cepstrum(?), which seems to be common (further adding 2nd derivative\n",
    "#   is also common).\n",
    "# * The + 1 is because the label for each sample comes right after the above.\n",
    "height_of_one_training_example = 49 * 13 * 2 + 1\n",
    "\n",
    "label = 0\n",
    "all_examples = []\n",
    "for one_file in files:\n",
    "  label += 1\n",
    "  rate, data = scipy.io.wavfile.read(one_file)\n",
    "  total_length_of_wave = data.shape[0]\n",
    "  print (\"just read file number %d which contains %d audio samples and is named %s Now analying it:\" % (label, total_length_of_wave, one_file))\n",
    "  assert rate == 8000, \"rate was %d\" % rate\n",
    "\n",
    "  half_second_length = 4000\n",
    "  start_index_of_half_second = 0\n",
    "  num_training_example_in_this_file = 0\n",
    "  while total_length_of_wave - start_index_of_half_second >= half_second_length:\n",
    "    num_training_example_in_this_file += 1\n",
    "    if num_training_example_in_this_file % 500 == 0:\n",
    "      print (\"\\t analyzing training sample number %d\" % num_training_example_in_this_file)\n",
    "\n",
    "    this_training_example_raw = data[start_index_of_half_second:start_index_of_half_second + half_second_length]\n",
    "    start_index_of_half_second += half_second_length\n",
    "    assert len(this_training_example_raw) == 4000, len(this_training_example_raw)\n",
    "    mfccs = mfcc(this_training_example_raw, 8000)\n",
    "    assert mfccs.shape == (49, 13), mfccs.shape\n",
    "\n",
    "    # Alfredo used 2 here, and changing it doesn't change the output size, so *shrug*.\n",
    "    first_derivative = delta(mfccs, 2)\n",
    "    assert first_derivative.shape == (49, 13), first_derivative.shape\n",
    "    all_examples.extend(mfccs.flatten().tolist())\n",
    "    all_examples.extend(first_derivative.flatten().tolist())\n",
    "    all_examples.append(label)\n",
    "    assert len(all_examples) % height_of_one_training_example == 0, \"num_training_example_in_this_file = %d\" % num_training_example_in_this_file"
   ]
  },
  {
   "cell_type": "code",
   "execution_count": 12,
   "metadata": {},
   "outputs": [
    {
     "name": "stdout",
     "output_type": "stream",
     "text": [
      "(13335, 1274) (13335, 1) (1481, 1274) (1481, 1)\n",
      "[[2.]\n",
      " [2.]\n",
      " [2.]\n",
      " [3.]\n",
      " [3.]]\n",
      "[[3.]\n",
      " [3.]\n",
      " [3.]\n",
      " [4.]\n",
      " [3.]]\n",
      "[[0. 1. 0. 0.]\n",
      " [0. 1. 0. 0.]\n",
      " [0. 1. 0. 0.]\n",
      " [0. 0. 1. 0.]\n",
      " [0. 0. 1. 0.]]\n",
      "[[0. 0. 1. 0.]\n",
      " [0. 0. 1. 0.]\n",
      " [0. 0. 1. 0.]\n",
      " [0. 0. 0. 1.]\n",
      " [0. 0. 1. 0.]]\n"
     ]
    }
   ],
   "source": [
    "np.random.seed(123456)\n",
    "\n",
    "# This cell massages the audio features into a format Keras likes and splits into test/dev sets.\n",
    "\n",
    "# TODO(dgrogan): Parts of the first half and last half of this cell are inverses and can be combined.\n",
    "all_examples_np = np.array(all_examples)\n",
    "all_examples_np = all_examples_np.reshape((height_of_one_training_example, -1), order='F')\n",
    "\n",
    "#print (\"all_examples_np.shape = %s, so we have %d training samples\" % (all_examples_np.shape, all_examples_np.shape[1]))\n",
    "assert all_examples_np[-1, 0] == 1, \"make sure the last row labels the first column as belonging to file number 1 %s\" % all_examples_np[-1, 0]\n",
    "\n",
    "shuffled_examples = all_examples_np.T\n",
    "np.random.shuffle(shuffled_examples)\n",
    "shuffled_examples = shuffled_examples.T\n",
    "\n",
    "# I changed to 0.9 when I thought we might not have enough data. We can change it back to whatever.\n",
    "training_pct = 0.9\n",
    "\n",
    "number_of_training_examples = int(math.ceil(all_examples_np.shape[1] * training_pct))\n",
    "\n",
    "# The labels are the last entry in each of the columns, hence the -1 below.\n",
    "X_train = shuffled_examples[0:-1, 0:number_of_training_examples]\n",
    "Y_train = shuffled_examples[-1:, 0:number_of_training_examples]\n",
    "X_dev   = shuffled_examples[0:-1, number_of_training_examples:]\n",
    "Y_dev   = shuffled_examples[-1:, number_of_training_examples:]\n",
    "\n",
    "# The labels in Y are an integer corresponding to the speaker number.\n",
    "# In Keras, you want (number of data, attributes). So we reshape.\n",
    "# Want: (see coursera M4 - Keras Tutorial)\n",
    "# if training_pct = 0.8, (11853, 1274) (11853, 1) (2963, 1274) (2963, 1)\n",
    "X_train = X_train.T\n",
    "Y_train = Y_train.T\n",
    "X_dev = X_dev.T\n",
    "Y_dev = Y_dev.T\n",
    "\n",
    "# Sanity check the train/dev shapes.\n",
    "print(X_train.shape, Y_train.shape, X_dev.shape, Y_dev.shape)\n",
    "\n",
    "# Sanity check the one-hot encoding.\n",
    "print(Y_train[0:5])\n",
    "print(Y_dev[0:5])\n",
    "Y_train = to_categorical(Y_train - 1) # -1 because to_categorical seems to expect labels to start at 0\n",
    "Y_dev = to_categorical(Y_dev - 1)\n",
    "print(Y_train[0:5])\n",
    "print(Y_dev[0:5])"
   ]
  },
  {
   "cell_type": "code",
   "execution_count": 13,
   "metadata": {},
   "outputs": [
    {
     "data": {
      "image/png": "[encoded data removed]",
      "text/plain": [
       "<IPython.core.display.Image object>"
      ]
     },
     "metadata": {},
     "output_type": "display_data"
    },
    {
     "name": "stdout",
     "output_type": "stream",
     "text": [
      "_________________________________________________________________\n",
      "Layer (type)                 Output Shape              Param #   \n",
      "=================================================================\n",
      "dense_2 (Dense)              (None, 5)                 6375      \n",
      "_________________________________________________________________\n",
      "dense_3 (Dense)              (None, 4)                 24        \n",
      "=================================================================\n",
      "Total params: 6,399\n",
      "Trainable params: 6,399\n",
      "Non-trainable params: 0\n",
      "_________________________________________________________________\n",
      "None\n"
     ]
    }
   ],
   "source": [
    "#Keras\n",
    "model = tf.keras.Sequential()\n",
    "\n",
    "#hidden layers\n",
    "model.add(layers.Dense(5, activation='relu', input_dim=X_train.shape[1]))\n",
    "model.add(layers.Dense(4, activation='softmax'))\n",
    "\n",
    "model.compile(optimizer=tf.train.AdamOptimizer(0.001),\n",
    "              loss='categorical_crossentropy',\n",
    "              metrics=['accuracy'])\n",
    "\n",
    "keras.utils.plot_model(model, to_file='test_keras_plot_model.png', show_shapes=True)\n",
    "display(IPython.display.Image('test_keras_plot_model.png'))\n",
    "print(model.summary())\n",
    "# I don't know where 140240419526080 in the picture came from"
   ]
  },
  {
   "cell_type": "code",
   "execution_count": 14,
   "metadata": {},
   "outputs": [
    {
     "name": "stdout",
     "output_type": "stream",
     "text": [
      "Train on 13335 samples, validate on 1481 samples\n",
      "WARNING:tensorflow:From /anaconda3/lib/python3.6/site-packages/tensorflow/python/ops/math_ops.py:3066: to_int32 (from tensorflow.python.ops.math_ops) is deprecated and will be removed in a future version.\n",
      "Instructions for updating:\n",
      "Use tf.cast instead.\n",
      "Epoch 1/50\n",
      " - 2s - loss: 1.1665 - acc: 0.7714 - val_loss: 0.6332 - val_acc: 0.8130\n",
      "Epoch 2/50\n",
      " - 1s - loss: 0.5421 - acc: 0.8588 - val_loss: 0.5286 - val_acc: 0.8515\n",
      "Epoch 3/50\n",
      " - 1s - loss: 0.4428 - acc: 0.8826 - val_loss: 0.4591 - val_acc: 0.8744\n",
      "Epoch 4/50\n",
      " - 1s - loss: 0.3733 - acc: 0.8901 - val_loss: 0.4801 - val_acc: 0.8845\n",
      "Epoch 5/50\n",
      " - 1s - loss: 0.3167 - acc: 0.9044 - val_loss: 0.4419 - val_acc: 0.8913\n",
      "Epoch 6/50\n",
      " - 1s - loss: 0.2695 - acc: 0.9204 - val_loss: 0.3810 - val_acc: 0.9075\n",
      "Epoch 7/50\n",
      " - 1s - loss: 0.2195 - acc: 0.9333 - val_loss: 0.3559 - val_acc: 0.9237\n",
      "Epoch 8/50\n",
      " - 1s - loss: 0.1950 - acc: 0.9399 - val_loss: 0.3264 - val_acc: 0.9196\n",
      "Epoch 9/50\n",
      " - 1s - loss: 0.1736 - acc: 0.9451 - val_loss: 0.3354 - val_acc: 0.9163\n",
      "Epoch 10/50\n",
      " - 1s - loss: 0.1585 - acc: 0.9486 - val_loss: 0.3139 - val_acc: 0.9156\n",
      "Epoch 11/50\n",
      " - 1s - loss: 0.1406 - acc: 0.9530 - val_loss: 0.3058 - val_acc: 0.9264\n",
      "Epoch 12/50\n",
      " - 1s - loss: 0.1276 - acc: 0.9549 - val_loss: 0.2855 - val_acc: 0.9338\n",
      "Epoch 13/50\n",
      " - 1s - loss: 0.1223 - acc: 0.9553 - val_loss: 0.2934 - val_acc: 0.9318\n",
      "Epoch 14/50\n",
      " - 1s - loss: 0.1146 - acc: 0.9591 - val_loss: 0.2781 - val_acc: 0.9352\n",
      "Epoch 15/50\n",
      " - 1s - loss: 0.1080 - acc: 0.9612 - val_loss: 0.2737 - val_acc: 0.9305\n",
      "Epoch 16/50\n",
      " - 1s - loss: 0.1082 - acc: 0.9612 - val_loss: 0.2723 - val_acc: 0.9392\n",
      "Epoch 17/50\n",
      " - 1s - loss: 0.1088 - acc: 0.9591 - val_loss: 0.2496 - val_acc: 0.9413\n",
      "Epoch 18/50\n",
      " - 1s - loss: 0.1024 - acc: 0.9623 - val_loss: 0.2524 - val_acc: 0.9379\n",
      "Epoch 19/50\n",
      " - 1s - loss: 0.1002 - acc: 0.9621 - val_loss: 0.2725 - val_acc: 0.9311\n",
      "Epoch 20/50\n",
      " - 1s - loss: 0.0959 - acc: 0.9640 - val_loss: 0.2465 - val_acc: 0.9365\n",
      "Epoch 21/50\n",
      " - 1s - loss: 0.0937 - acc: 0.9653 - val_loss: 0.2711 - val_acc: 0.9372\n",
      "Epoch 22/50\n",
      " - 1s - loss: 0.0899 - acc: 0.9663 - val_loss: 0.2694 - val_acc: 0.9372\n",
      "Epoch 23/50\n",
      " - 1s - loss: 0.0885 - acc: 0.9681 - val_loss: 0.2509 - val_acc: 0.9419\n",
      "Epoch 24/50\n",
      " - 1s - loss: 0.0889 - acc: 0.9666 - val_loss: 0.2550 - val_acc: 0.9365\n",
      "Epoch 25/50\n",
      " - 1s - loss: 0.0860 - acc: 0.9678 - val_loss: 0.2576 - val_acc: 0.9413\n",
      "Epoch 26/50\n",
      " - 1s - loss: 0.0880 - acc: 0.9673 - val_loss: 0.2781 - val_acc: 0.9305\n",
      "Epoch 27/50\n",
      " - 1s - loss: 0.0816 - acc: 0.9687 - val_loss: 0.2474 - val_acc: 0.9419\n",
      "Epoch 28/50\n",
      " - 1s - loss: 0.0800 - acc: 0.9700 - val_loss: 0.2919 - val_acc: 0.9392\n",
      "Epoch 29/50\n",
      " - 1s - loss: 0.0763 - acc: 0.9706 - val_loss: 0.2537 - val_acc: 0.9365\n",
      "Epoch 30/50\n",
      " - 1s - loss: 0.0745 - acc: 0.9721 - val_loss: 0.2601 - val_acc: 0.9426\n",
      "Epoch 31/50\n",
      " - 1s - loss: 0.0758 - acc: 0.9709 - val_loss: 0.2762 - val_acc: 0.9365\n",
      "Epoch 32/50\n",
      " - 1s - loss: 0.0787 - acc: 0.9699 - val_loss: 0.2856 - val_acc: 0.9399\n",
      "Epoch 33/50\n",
      " - 1s - loss: 0.0777 - acc: 0.9702 - val_loss: 0.3115 - val_acc: 0.9298\n",
      "Epoch 34/50\n",
      " - 1s - loss: 0.0772 - acc: 0.9708 - val_loss: 0.2938 - val_acc: 0.9467\n",
      "Epoch 35/50\n",
      " - 1s - loss: 0.0709 - acc: 0.9730 - val_loss: 0.3024 - val_acc: 0.9460\n",
      "Epoch 36/50\n",
      " - 1s - loss: 0.0679 - acc: 0.9740 - val_loss: 0.2848 - val_acc: 0.9365\n",
      "Epoch 37/50\n",
      " - 1s - loss: 0.0670 - acc: 0.9739 - val_loss: 0.2925 - val_acc: 0.9365\n",
      "Epoch 38/50\n",
      " - 1s - loss: 0.0669 - acc: 0.9745 - val_loss: 0.2865 - val_acc: 0.9392\n",
      "Epoch 39/50\n",
      " - 1s - loss: 0.0708 - acc: 0.9728 - val_loss: 0.3142 - val_acc: 0.9446\n",
      "Epoch 40/50\n",
      " - 1s - loss: 0.0696 - acc: 0.9735 - val_loss: 0.3217 - val_acc: 0.9345\n",
      "Epoch 41/50\n",
      " - 1s - loss: 0.0647 - acc: 0.9744 - val_loss: 0.3258 - val_acc: 0.9419\n",
      "Epoch 42/50\n",
      " - 1s - loss: 0.0696 - acc: 0.9738 - val_loss: 0.3663 - val_acc: 0.9345\n",
      "Epoch 43/50\n",
      " - 1s - loss: 0.0733 - acc: 0.9709 - val_loss: 0.3188 - val_acc: 0.9399\n",
      "Epoch 44/50\n",
      " - 1s - loss: 0.0754 - acc: 0.9711 - val_loss: 0.3186 - val_acc: 0.9332\n",
      "Epoch 45/50\n",
      " - 1s - loss: 0.0718 - acc: 0.9723 - val_loss: 0.3176 - val_acc: 0.9379\n",
      "Epoch 46/50\n",
      " - 1s - loss: 0.0677 - acc: 0.9741 - val_loss: 0.3096 - val_acc: 0.9392\n",
      "Epoch 47/50\n",
      " - 1s - loss: 0.0638 - acc: 0.9748 - val_loss: 0.3370 - val_acc: 0.9433\n",
      "Epoch 48/50\n",
      " - 1s - loss: 0.0591 - acc: 0.9776 - val_loss: 0.3329 - val_acc: 0.9379\n",
      "Epoch 49/50\n",
      " - 1s - loss: 0.0651 - acc: 0.9741 - val_loss: 0.3720 - val_acc: 0.9440\n",
      "Epoch 50/50\n",
      " - 1s - loss: 0.0622 - acc: 0.9758 - val_loss: 0.3553 - val_acc: 0.9379\n",
      "CPU times: user 49.2 s, sys: 11.2 s, total: 1min\n",
      "Wall time: 32.1 s\n"
     ]
    }
   ],
   "source": [
    "%%time\n",
    "history_object = model.fit(X_train, Y_train, epochs=50, batch_size=128, verbose=2, shuffle=True,\n",
    "         validation_data=(X_dev, Y_dev))\n"
   ]
  },
  {
   "cell_type": "code",
   "execution_count": 15,
   "metadata": {},
   "outputs": [
    {
     "name": "stdout",
     "output_type": "stream",
     "text": [
      "{'val_loss': [0.6331565333813288, 0.528595754337182, 0.45910362594438353, 0.4800785100999352, 0.441894822753337, 0.38098537905807034, 0.355909694999879, 0.3264430860544201, 0.3353775296961432, 0.31389301673211734, 0.30576580044468216, 0.28549642261220826, 0.2933707859651371, 0.2780746061060575, 0.2736844410069644, 0.2723250223083483, 0.2495713515570645, 0.25237577634434055, 0.2724559216443789, 0.24645894370434818, 0.2711183970579016, 0.26938684300785526, 0.250885889688752, 0.2549594361221847, 0.25757907398402247, 0.2780768925639764, 0.24744400376005, 0.2919131080940074, 0.2536975211947452, 0.2601413220710484, 0.27620964956637734, 0.2855874792013033, 0.31145813026837127, 0.29375170586803007, 0.30237355003237804, 0.2848084618882663, 0.292486684717575, 0.28654643275462477, 0.3142280443989691, 0.32173925973248596, 0.3257654828247712, 0.36632918192678654, 0.3188041655458686, 0.3186093281242672, 0.3175995506643042, 0.30958291079288075, 0.33697482815753116, 0.3329369738687944, 0.37200557537613327, 0.35532001673088615], 'val_acc': [0.8129642141742693, 0.8514517207631865, 0.8744091819380684, 0.8845374758061648, 0.8912896699071494, 0.9074949369810467, 0.9237002036927279, 0.9196488870148076, 0.9162727897832074, 0.9155975699746713, 0.9264010811157922, 0.9338284953875288, 0.9318028366863527, 0.9351789342801688, 0.9304523977937125, 0.9392302483823314, 0.9412559092970493, 0.937879812065449, 0.9311276168778166, 0.936529372810593, 0.9372045922569131, 0.9372045922569131, 0.9419311283811534, 0.9365293731728089, 0.9412559092970493, 0.9304523977937125, 0.9419311283811534, 0.9392302502336572, 0.936529372810593, 0.9426063456139316, 0.9365293724483771, 0.9399054696799773, 0.9297771779851766, 0.9466576645053938, 0.9459824446968579, 0.9365293731728089, 0.936529372810593, 0.9392302505958732, 0.9446320058042177, 0.9345037141094169, 0.9419311287433694, 0.9345037148338488, 0.9399054700421933, 0.9331532755789927, 0.9378798113410172, 0.9392302502336572, 0.9432815676360095, 0.9378798094896913, 0.9439567845065717, 0.9378798094896913], 'loss': [1.1665119848852084, 0.5421383951168003, 0.4427825008946767, 0.37329575560894807, 0.3167085106503798, 0.26952851677504114, 0.21952283659319238, 0.1950451859204922, 0.17361709828854144, 0.15847245264933893, 0.1406114479235992, 0.12755228502275706, 0.12234151436900842, 0.11455251306552408, 0.10804147426839353, 0.1081640243284435, 0.108810663501511, 0.10236667114382252, 0.10019007487761022, 0.0958989508173463, 0.09365779266996155, 0.08985327964122705, 0.08846406521290306, 0.08893765580812822, 0.08597922238476231, 0.08802528491625747, 0.08164874589472959, 0.08001533691817772, 0.07628229368194507, 0.07448976111654534, 0.07575582837986955, 0.07865432644759475, 0.07769399571215387, 0.07724913919018389, 0.07087360533393632, 0.0678745086958201, 0.06698485763836408, 0.06688382672638338, 0.07083693372122706, 0.06962531332022964, 0.06469273907462443, 0.06959664599601924, 0.073334937915625, 0.07542451212345369, 0.07177044764736595, 0.06772176025398313, 0.06383550844246394, 0.05913121570830583, 0.0651222003497432, 0.06221620263591168], 'acc': [0.7714285713972829, 0.8587926509365144, 0.8825646793659054, 0.8900637420009574, 0.9043869516489252, 0.9204349455826284, 0.9333333333690916, 0.939857517846032, 0.9451068616601739, 0.9486314210902451, 0.9529808773903262, 0.9548556430624986, 0.9553055867703613, 0.9591301087542871, 0.9611548556609237, 0.961154855678803, 0.9590551181281154, 0.9622797149864528, 0.9621297338011563, 0.9640044994733287, 0.9652793401003689, 0.9663292088488938, 0.9681289839127737, 0.9665541807274091, 0.9678290213902077, 0.9673040869891264, 0.9686539182602175, 0.9700037495313086, 0.9706036745406824, 0.9721034870819961, 0.9709036370632484, 0.9699287589051369, 0.9702287214277029, 0.9708286464191976, 0.9730033745781778, 0.9739782527362894, 0.9739032620922384, 0.9745031871016123, 0.9727784026996625, 0.9734533183530872, 0.9744281964754405, 0.973753280839895, 0.9709036369962016, 0.9711286089417637, 0.9722534683343396, 0.9740532433445819, 0.9748031496062992, 0.9775778027925324, 0.9740532433445819, 0.9757780277644108]}\n"
     ]
    }
   ],
   "source": [
    "print(history_object.history)"
   ]
  },
  {
   "cell_type": "code",
   "execution_count": 8,
   "metadata": {},
   "outputs": [
    {
     "data": {
      "image/png": "[encoded data removed]",
      "text/plain": [
       "<matplotlib.figure.Figure at 0x1a2c790cf8>"
      ]
     },
     "metadata": {
      "needs_background": "light"
     },
     "output_type": "display_data"
    },
    {
     "data": {
      "image/png": "[encoded data removed]",
      "text/plain": [
       "<matplotlib.figure.Figure at 0x1a295119b0>"
      ]
     },
     "metadata": {
      "needs_background": "light"
     },
     "output_type": "display_data"
    }
   ],
   "source": [
    "# Plot training & validation accuracy values\n",
    "plt.plot(history_object.history['acc'])\n",
    "plt.plot(history_object.history['val_acc'])\n",
    "plt.title('Model accuracy')\n",
    "plt.ylabel('Accuracy')\n",
    "plt.xlabel('Epoch')\n",
    "plt.legend(['Train', 'Test'], loc='upper left')\n",
    "plt.show()\n",
    "\n",
    "# Plot training & validation loss values\n",
    "plt.plot(history_object.history['loss'])\n",
    "plt.plot(history_object.history['val_loss'])\n",
    "plt.title('Model loss')\n",
    "plt.ylabel('Loss')\n",
    "plt.xlabel('Epoch')\n",
    "plt.legend(['Train', 'Test'], loc='upper left')\n",
    "plt.show()"
   ]
  },
  {
   "cell_type": "code",
   "execution_count": null,
   "metadata": {
    "collapsed": true
   },
   "outputs": [],
   "source": []
  }
 ],
 "metadata": {
  "kernelspec": {
   "display_name": "Python 3",
   "language": "python",
   "name": "python3"
  },
  "language_info": {
   "codemirror_mode": {
    "name": "ipython",
    "version": 3
   },
   "file_extension": ".py",
   "mimetype": "text/x-python",
   "name": "python",
   "nbconvert_exporter": "python",
   "pygments_lexer": "ipython3",
   "version": "3.6.8"
  }
 },
 "nbformat": 4,
 "nbformat_minor": 2
}
